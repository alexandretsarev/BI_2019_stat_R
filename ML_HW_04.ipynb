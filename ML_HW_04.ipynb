{
 "cells": [
  {
   "cell_type": "markdown",
   "metadata": {},
   "source": [
    "Задание No4\n",
    "В этом задании вам предстоит классифицировать типы соевых бобов\n",
    "(http://archive.ics.uci.edu/ml/datasets/Soybean+%28Large%29).\n",
    "В рамках этого задания вам необходимо сделать следующее:\n",
    "1. Сделать EDA для ваших данных (5 баллов):\n",
    "– проанализируйте какие переменные есть, возможно стоит построить графики\n",
    "– проверить наличие NA, что с ними сделать – на ваше усмотрение\n",
    "– проверить наличие скоррелированных переменных в ваших данных, визуализируйте\n",
    "это, за вами выбор оставить эти переменные или нет.\n",
    "2. Разделите ваш датасет на тестовую и тренировочную выборки в таком отношении, что бы\n",
    "все классы были представлены в обоих выборках и были стратифицированны (равное\n",
    "распределение классов, нужно указать доп. опцию в фунции train_test_split) (2\n",
    "балла).\n",
    "3. Обучите ваш классификатор (предлагаю воспользоваться методом RandomForestClassifier)\n",
    "на вашей обучающей выборке (2 балла).\n",
    "4. В случае тестовой выборки удалите информацию о принадлежности к классам (1 балл).\n",
    "5. Предскажите значения классов используя ваш классификатор (2 балла).\n",
    "6. Оцените качество вашего классификатора используя известные вам метрики (F-мера и мера и\n",
    "матрица неточностей). Какие выводы вы можете сделать (5 баллов).\n",
    "7. Выведите топ-мера и 3 признаков, которые оказались самыми важными при классификации (2\n",
    "балла).\n",
    "8. С помощью GridSearch оптимизируйте ваш классификатор и сравните его с полученным\n",
    "изначально (4 баллов)."
   ]
  },
  {
   "cell_type": "markdown",
   "metadata": {},
   "source": [
    "1. date: april,may,june,july,august,september,october,?.\n",
    "2. plant-stand: normal,lt-normal,?.\n",
    "3. precip: lt-norm,norm,gt-norm,?.\n",
    "4. temp: lt-norm,norm,gt-norm,?.\n",
    "5. hail: yes,no,?.\n",
    "6. crop-hist: diff-lst-year,same-lst-yr,same-lst-two-yrs,\n",
    "same-lst-sev-yrs,?.\n",
    "7. area-damaged: scattered,low-areas,upper-areas,whole-field,?.\n",
    "8. severity: minor,pot-severe,severe,?.\n",
    "9. seed-tmt: none,fungicide,other,?.\n",
    "10. germination: 90-100%,80-89%,lt-80%,?.\n",
    "11. plant-growth: norm,abnorm,?.\n",
    "12. leaves: norm,abnorm.\n",
    "13. leafspots-halo: absent,yellow-halos,no-yellow-halos,?.\n",
    "14. leafspots-marg: w-s-marg,no-w-s-marg,dna,?.\n",
    "15. leafspot-size: lt-1/8,gt-1/8,dna,?.\n",
    "16. leaf-shread: absent,present,?.\n",
    "17. leaf-malf: absent,present,?.\n",
    "18. leaf-mild: absent,upper-surf,lower-surf,?.\n",
    "19. stem: norm,abnorm,?.\n",
    "20. lodging: yes,no,?.\n",
    "21. stem-cankers: absent,below-soil,above-soil,above-sec-nde,?.\n",
    "22. canker-lesion: dna,brown,dk-brown-blk,tan,?.\n",
    "23. fruiting-bodies: absent,present,?.\n",
    "24. external decay: absent,firm-and-dry,watery,?.\n",
    "25. mycelium: absent,present,?.\n",
    "26. int-discolor: none,brown,black,?.\n",
    "27. sclerotia: absent,present,?.\n",
    "28. fruit-pods: norm,diseased,few-present,dna,?.\n",
    "29. fruit spots: absent,colored,brown-w/blk-specks,distort,dna,?.\n",
    "30. seed: norm,abnorm,?.\n",
    "31. mold-growth: absent,present,?.\n",
    "32. seed-discolor: absent,present,?.\n",
    "33. seed-size: norm,lt-norm,?.\n",
    "34. shriveling: absent,present,?.\n",
    "35. roots: norm,rotted,galls-cysts,?.\n"
   ]
  },
  {
   "cell_type": "code",
   "execution_count": 291,
   "metadata": {},
   "outputs": [],
   "source": [
    "import seaborn as sns\n",
    "import matplotlib.pyplot as plt\n",
    "import pandas as pd\n",
    "import pylab as pl\n",
    "import numpy as np\n",
    "from sklearn.ensemble import RandomForestClassifier\n",
    "from sklearn.model_selection import train_test_split, cross_val_score, GridSearchCV  \n",
    "from sklearn import metrics\n",
    "from sklearn.metrics import accuracy_score, roc_auc_score, roc_curve, auc\n",
    "import warnings\n",
    "import scikitplot as skplt\n",
    "import matplotlib.pyplot as plt\n",
    "\n",
    "\n",
    "from sklearn.model_selection import train_test_split, cross_val_score, GridSearchCV  \n",
    "from sklearn import metrics\n",
    "from sklearn.metrics import accuracy_score, roc_auc_score, roc_curve, auc\n",
    "\n",
    "%matplotlib inline"
   ]
  },
  {
   "cell_type": "code",
   "execution_count": 283,
   "metadata": {},
   "outputs": [
    {
     "data": {
      "text/plain": [
       "Index(['name', 'date', 'plant-stand', 'precip', 'temp', 'hail', 'crop-hist',\n",
       "       'area-damaged', 'severity', 'seed-tmt', 'germination', 'plant-growth',\n",
       "       'leaves', 'leafspots-halo', 'leafspots-marg', 'leafspot-size',\n",
       "       'leaf-shread', 'leaf-malf', 'leaf-mild', 'stem', 'lodging',\n",
       "       'stem-cankers', 'canker-lesion', 'fruiting-bodies', 'external decay',\n",
       "       'mycelium', 'int-discolor', 'sclerotia', 'fruit-pods', 'fruit spots',\n",
       "       'seed', 'mold-growth', 'seed-discolor', 'seed-size', 'shriveling',\n",
       "       'roots'],\n",
       "      dtype='object')"
      ]
     },
     "execution_count": 283,
     "metadata": {},
     "output_type": "execute_result"
    }
   ],
   "source": [
    "data = pd.read_csv(\"/home/tsaralex/Documents/Bioinf/BI_2019_stat_R/soybean-large_data.csv\")\n",
    "data.columns"
   ]
  },
  {
   "cell_type": "markdown",
   "metadata": {},
   "source": [
    "Видим, колонку date, которую использовать для классификатора вряд ли стоит. "
   ]
  },
  {
   "cell_type": "code",
   "execution_count": 97,
   "metadata": {},
   "outputs": [],
   "source": [
    "data.drop('date',axis=1,inplace=True)"
   ]
  },
  {
   "cell_type": "code",
   "execution_count": 284,
   "metadata": {},
   "outputs": [
    {
     "data": {
      "text/plain": [
       "True"
      ]
     },
     "execution_count": 284,
     "metadata": {},
     "output_type": "execute_result"
    }
   ],
   "source": [
    "# проверим на наличие NA - их нет (по крайней мере вот так сразу если посмотреть)\n",
    "not all(data.isnull().sum())"
   ]
  },
  {
   "cell_type": "markdown",
   "metadata": {},
   "source": [
    "В описании к датасету видим, что в данных есть значения \"?\",что означает - \"An unknown values\", что можно интерпретировать как NA. Попробуем посчитать сколько таких значений есть в колонках. "
   ]
  },
  {
   "cell_type": "code",
   "execution_count": 270,
   "metadata": {},
   "outputs": [],
   "source": [
    "[data[column].replace(str(\"?\"),np.nan,inplace=True) for column in data.columns][0]"
   ]
  },
  {
   "cell_type": "code",
   "execution_count": 271,
   "metadata": {},
   "outputs": [
    {
     "data": {
      "text/plain": [
       "name                0\n",
       "plant-stand         8\n",
       "precip             11\n",
       "temp                7\n",
       "hail               41\n",
       "crop-hist           1\n",
       "area-damaged        1\n",
       "severity           41\n",
       "seed-tmt           41\n",
       "germination        36\n",
       "plant-growth        1\n",
       "leaves              0\n",
       "leafspots-halo     25\n",
       "leafspots-marg     25\n",
       "leafspot-size      25\n",
       "leaf-shread        26\n",
       "leaf-malf          25\n",
       "leaf-mild          30\n",
       "stem                1\n",
       "lodging            41\n",
       "stem-cankers       11\n",
       "canker-lesion      11\n",
       "fruiting-bodies    35\n",
       "external decay     11\n",
       "mycelium           11\n",
       "int-discolor       11\n",
       "sclerotia          11\n",
       "fruit-pods         25\n",
       "fruit spots        35\n",
       "seed               29\n",
       "mold-growth        29\n",
       "seed-discolor      35\n",
       "seed-size          29\n",
       "shriveling         35\n",
       "roots               7\n",
       "dtype: int64"
      ]
     },
     "execution_count": 271,
     "metadata": {},
     "output_type": "execute_result"
    }
   ],
   "source": [
    "# теперь появилось куда больше NaN\n",
    "data.isnull().sum()"
   ]
  },
  {
   "cell_type": "code",
   "execution_count": 272,
   "metadata": {},
   "outputs": [
    {
     "name": "stdout",
     "output_type": "stream",
     "text": [
      "86.6 % of data is remained\n"
     ]
    }
   ],
   "source": [
    "# попробуем дропнуть все NaN и посмотреть размерность датафрейма \n",
    "print(f'{np.around(data.dropna().shape[0]/data.shape[0],3)*100} % of data is remained')\n",
    "# в итоге осталось ~86.6% данных, что может быть не так критично, но нужно посмотреть на представительность классов "
   ]
  },
  {
   "cell_type": "code",
   "execution_count": 273,
   "metadata": {},
   "outputs": [
    {
     "name": "stdout",
     "output_type": "stream",
     "text": [
      "Raw dataset \n",
      "\n",
      " frog-eye-leaf-spot             40\n",
      "alternarialeaf-spot            40\n",
      "brown-spot                     40\n",
      "phytophthora-rot               40\n",
      "brown-stem-rot                 20\n",
      "anthracnose                    20\n",
      "purple-seed-stain              10\n",
      "charcoal-rot                   10\n",
      "diaporthe-stem-canker          10\n",
      "powdery-mildew                 10\n",
      "bacterial-pustule              10\n",
      "rhizoctonia-root-rot           10\n",
      "phyllosticta-leaf-spot         10\n",
      "bacterial-blight               10\n",
      "downy-mildew                   10\n",
      "cyst-nematode                   6\n",
      "diaporthe-pod-&-stem-blight     6\n",
      "herbicide-injury                4\n",
      "2-4-d-injury                    1\n",
      "Name: name, dtype: int64 \n",
      "\n",
      "\n",
      "Cropped dataset \n",
      "\n",
      " frog-eye-leaf-spot        40\n",
      "alternarialeaf-spot       40\n",
      "brown-spot                40\n",
      "anthracnose               20\n",
      "brown-stem-rot            20\n",
      "phytophthora-rot          16\n",
      "rhizoctonia-root-rot      10\n",
      "powdery-mildew            10\n",
      "bacterial-pustule         10\n",
      "phyllosticta-leaf-spot    10\n",
      "bacterial-blight          10\n",
      "downy-mildew              10\n",
      "charcoal-rot              10\n",
      "diaporthe-stem-canker     10\n",
      "purple-seed-stain         10\n",
      "Name: name, dtype: int64\n"
     ]
    }
   ],
   "source": [
    "print('Raw dataset','\\n'*2,data.name.value_counts(),'\\n'*2)\n",
    "print('Cropped dataset','\\n'*2,\n",
    "      data.dropna().name.value_counts())"
   ]
  },
  {
   "cell_type": "markdown",
   "metadata": {},
   "source": [
    "стало даже лучше, так как предсказывать классы в которых есть очень мало наблюдений - нехорошее занятие. Такой результат совпал с тем, что написано в описании к данным:  \n",
    "\n",
    "There are 19 classes, only the first 15 of which have been used in prior work. The folklore seems to be that the last four classes are unjustified by the data since they have so few examples."
   ]
  },
  {
   "cell_type": "code",
   "execution_count": 164,
   "metadata": {},
   "outputs": [],
   "source": [
    "data_cropped = data.dropna()"
   ]
  },
  {
   "cell_type": "code",
   "execution_count": 165,
   "metadata": {},
   "outputs": [
    {
     "data": {
      "text/plain": [
       "True"
      ]
     },
     "execution_count": 165,
     "metadata": {},
     "output_type": "execute_result"
    }
   ],
   "source": [
    "not all(data_cropped.isnull().sum()) # проверяем финально, остались ли NaN, все ок"
   ]
  },
  {
   "cell_type": "markdown",
   "metadata": {},
   "source": [
    "Теперь посмотрим, как коррелируют наши переменные друг с другом. Так как все переменные у нас категориальные, нужно использовать соответствующий коэф. корреляции. Они небинарные, так что коэф корреляции Мэтьюса не подойдет, так что будет брать коэффициент корреляции Крамера. Есть готовая функция для данного теста и взята была [отсюда](https://towardsdatascience.com/the-search-for-categorical-correlation-a1cf7f1888c9)"
   ]
  },
  {
   "cell_type": "code",
   "execution_count": 260,
   "metadata": {},
   "outputs": [],
   "source": [
    "def cramers_v(x, y):\n",
    "    confusion_matrix = pd.crosstab(x,y)\n",
    "    chi2 = ss.chi2_contingency(confusion_matrix)[0]\n",
    "    n = confusion_matrix.sum().sum()\n",
    "    phi2 = chi2/n\n",
    "    r,k = confusion_matrix.shape\n",
    "    phi2corr = max(0, phi2-((k-1)*(r-1))/(n-1))\n",
    "    rcorr = r-((r-1)**2)/(n-1)\n",
    "    kcorr = k-((k-1)**2)/(n-1)\n",
    "    return np.sqrt(phi2corr/min((kcorr-1),(rcorr-1)))\n",
    "\n",
    "# собираем матрицу корреляций\n",
    "rows = []\n",
    "for var1 in data_cropped:\n",
    "    col = []\n",
    "    for var2 in data_cropped:\n",
    "        cramers =cramers_v(data_cropped[var1], data_cropped[var2]) # Cramer's V test\n",
    "        col.append(round(cramers,2)) \n",
    "    rows.append(col)\n",
    "    cramers_results = np.array(rows)\n",
    "cor_matrix = pd.DataFrame(cramers_results, columns = data_cropped.columns, index =data_cropped.columns)"
   ]
  },
  {
   "cell_type": "code",
   "execution_count": 262,
   "metadata": {},
   "outputs": [
    {
     "data": {
      "image/png": "[encoded data removed]",
      "text/plain": [
       "<Figure size 864x504 with 2 Axes>"
      ]
     },
     "metadata": {
      "needs_background": "light"
     },
     "output_type": "display_data"
    }
   ],
   "source": [
    "# визуализация \n",
    "plt.subplots(figsize=(12,7))\n",
    "mask = np.zeros_like(cor_matrix, dtype=np.bool)\n",
    "mask[np.triu_indices_from(mask)] = True\n",
    "ax = sns.heatmap(cor_matrix, mask=mask,vmin=0., vmax=1,cmap = 'Blues')\n",
    "plt.show()"
   ]
  },
  {
   "cell_type": "markdown",
   "metadata": {},
   "source": [
    "Видим несколько паттернов. \n",
    "1. переменная sclerotia имеет высокую корреляцию с переменной int-discolor. есть и другие скоррелированые перменнные но с более низкими значениями корреляции. \n",
    "2. в первом столбце все фичи так тем или иным значением коррелируют с переменной name, которую мы собираемся предсказывать; все кроме трех переменных crop-hist, seed-tmt, germination. давайте посмотрим на их значения корреляции по ближе."
   ]
  },
  {
   "cell_type": "code",
   "execution_count": 265,
   "metadata": {},
   "outputs": [
    {
     "data": {
      "text/plain": [
       "crop-hist      0.08\n",
       "seed-tmt       0.18\n",
       "germination    0.06\n",
       "Name: name, dtype: float64"
      ]
     },
     "execution_count": 265,
     "metadata": {},
     "output_type": "execute_result"
    }
   ],
   "source": [
    "cor_matrix.query('name < 0.2').loc[:,'name']"
   ]
  },
  {
   "cell_type": "markdown",
   "metadata": {},
   "source": [
    "Видим, что эти переменные почти никак не связаны с переменной, которую мы будем предсказывать (name). Предлагаю не использовать их для классификации (crop-hist, germination), а переменную seed-tmt оставить."
   ]
  },
  {
   "cell_type": "code",
   "execution_count": 274,
   "metadata": {},
   "outputs": [],
   "source": [
    "data_cropped2 = data_cropped.drop(['crop-hist','germination'],axis=1) "
   ]
  },
  {
   "cell_type": "markdown",
   "metadata": {},
   "source": [
    "Теперь нужно решить, как быть с переменными, которые коррелируют между собой. Таких мало. Более того, в нашем случае мы используем алгоритм Random Forest, и наличие таких переменных нам некритично (а было бы критично например для наивного Байеса). Действительно может быть так, что в одно из деревьев попадут такие перменные и классификация локально будет хуже, но у нас лес и можно сделать по-больше n_estimators. Так или иначе, предлагаю ничего не делать с данными переменными и продолжить работать дальше."
   ]
  },
  {
   "cell_type": "code",
   "execution_count": 296,
   "metadata": {},
   "outputs": [],
   "source": [
    "X = data_cropped2.drop(\"name\",axis=1)\n",
    "y = data_cropped2.name"
   ]
  },
  {
   "cell_type": "code",
   "execution_count": 294,
   "metadata": {},
   "outputs": [],
   "source": [
    "from sklearn.model_selection import LeaveOneOut\n",
    "from sklearn.model_selection import cross_val_score"
   ]
  },
  {
   "cell_type": "code",
   "execution_count": 303,
   "metadata": {},
   "outputs": [
    {
     "name": "stdout",
     "output_type": "stream",
     "text": [
      "Accuracy: 92.48%\n"
     ]
    }
   ],
   "source": [
    "warnings.filterwarnings('ignore')\n",
    "loocv = LeaveOneOut()\n",
    "model_loocv = RandomForestClassifier(n_estimators=1000)\n",
    "results_loocv = cross_val_score(model_loocv, X, y, cv=loocv)\n",
    "print(\"Accuracy: %.2f%%\" % (results_loocv.mean()*100.0))"
   ]
  },
  {
   "cell_type": "code",
   "execution_count": 302,
   "metadata": {},
   "outputs": [
    {
     "data": {
      "text/plain": [
       "0.8947368421052632"
      ]
     },
     "execution_count": 302,
     "metadata": {},
     "output_type": "execute_result"
    }
   ],
   "source": [
    "results_loocv.mean()"
   ]
  },
  {
   "cell_type": "code",
   "execution_count": 223,
   "metadata": {},
   "outputs": [],
   "source": []
  },
  {
   "cell_type": "code",
   "execution_count": null,
   "metadata": {},
   "outputs": [],
   "source": []
  },
  {
   "cell_type": "code",
   "execution_count": null,
   "metadata": {},
   "outputs": [],
   "source": []
  },
  {
   "cell_type": "code",
   "execution_count": null,
   "metadata": {},
   "outputs": [],
   "source": []
  },
  {
   "cell_type": "code",
   "execution_count": null,
   "metadata": {},
   "outputs": [],
   "source": []
  },
  {
   "cell_type": "code",
   "execution_count": null,
   "metadata": {},
   "outputs": [],
   "source": []
  }
 ],
 "metadata": {
  "kernelspec": {
   "display_name": "Python 3",
   "language": "python",
   "name": "python3"
  },
  "language_info": {
   "codemirror_mode": {
    "name": "ipython",
    "version": 3
   },
   "file_extension": ".py",
   "mimetype": "text/x-python",
   "name": "python",
   "nbconvert_exporter": "python",
   "pygments_lexer": "ipython3",
   "version": "3.7.4"
  }
 },
 "nbformat": 4,
 "nbformat_minor": 2
}
